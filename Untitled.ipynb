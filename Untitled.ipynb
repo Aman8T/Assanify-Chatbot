{
 "cells": [
  {
   "cell_type": "code",
   "execution_count": 1,
   "id": "63c3b4dc",
   "metadata": {},
   "outputs": [
    {
     "name": "stdout",
     "output_type": "stream",
     "text": [
      "Requirement already satisfied: heyoo in c:\\users\\luvsh\\anaconda3\\lib\\site-packages (0.0.4)\n",
      "Requirement already satisfied: requests in c:\\users\\luvsh\\anaconda3\\lib\\site-packages (from heyoo) (2.25.1)\n",
      "Requirement already satisfied: certifi>=2017.4.17 in c:\\users\\luvsh\\anaconda3\\lib\\site-packages (from requests->heyoo) (2020.12.5)\n",
      "Requirement already satisfied: chardet<5,>=3.0.2 in c:\\users\\luvsh\\anaconda3\\lib\\site-packages (from requests->heyoo) (4.0.0)\n",
      "Requirement already satisfied: idna<3,>=2.5 in c:\\users\\luvsh\\anaconda3\\lib\\site-packages (from requests->heyoo) (2.10)\n",
      "Requirement already satisfied: urllib3<1.27,>=1.21.1 in c:\\users\\luvsh\\anaconda3\\lib\\site-packages (from requests->heyoo) (1.26.4)\n",
      "Note: you may need to restart the kernel to use updated packages.\n"
     ]
    }
   ],
   "source": [
    "pip install  --upgrade heyoo"
   ]
  },
  {
   "cell_type": "code",
   "execution_count": 2,
   "id": "a9f3cf7f",
   "metadata": {},
   "outputs": [],
   "source": [
    "import requests"
   ]
  },
  {
   "cell_type": "code",
   "execution_count": 3,
   "id": "6d9b6ac7",
   "metadata": {},
   "outputs": [],
   "source": [
    "from heyoo import WhatsApp\n",
    "messenger = WhatsApp('EAAEdqkBTO0YBAC0GkKPtJOlTy5UhABWw33vuRcInqNB7zXm22txwXEfuOn8GDPi0hKZAiNUz2pNEiS6FW57qgZCmZAOBEIL0sWOZCAoz4rdeZApr7R6YevvzdZANqkqactUiZCg2D8fivw2mm4PZCeKcuZAcZAfxWmdbX2Mtah74AuuNEBf3ChJkVMWZBhPDLoCDZAPgltMOiQSy8QZDZD',phone_number_id='105358718868002')"
   ]
  },
  {
   "cell_type": "code",
   "execution_count": 10,
   "id": "f38226e9",
   "metadata": {},
   "outputs": [
    {
     "ename": "NameError",
     "evalue": "name 'messenger' is not defined",
     "output_type": "error",
     "traceback": [
      "\u001b[1;31m---------------------------------------------------------------------------\u001b[0m",
      "\u001b[1;31mNameError\u001b[0m                                 Traceback (most recent call last)",
      "\u001b[1;32m<ipython-input-10-2ac528d9c4d2>\u001b[0m in \u001b[0;36m<module>\u001b[1;34m\u001b[0m\n\u001b[0;32m      1\u001b[0m \u001b[1;31m# For sending a Text messages\u001b[0m\u001b[1;33m\u001b[0m\u001b[1;33m\u001b[0m\u001b[1;33m\u001b[0m\u001b[0m\n\u001b[1;32m----> 2\u001b[1;33m \u001b[0mmessenger\u001b[0m\u001b[1;33m.\u001b[0m\u001b[0msend_message\u001b[0m\u001b[1;33m(\u001b[0m\u001b[1;34m'Hello I am WhatsApp Cloud API'\u001b[0m\u001b[1;33m,\u001b[0m \u001b[1;34m'8902646172'\u001b[0m\u001b[1;33m)\u001b[0m\u001b[1;33m\u001b[0m\u001b[1;33m\u001b[0m\u001b[0m\n\u001b[0m",
      "\u001b[1;31mNameError\u001b[0m: name 'messenger' is not defined"
     ]
    }
   ],
   "source": [
    "# For sending a Text messages\n",
    "messenger.send_message('Hello I am WhatsApp Cloud API', '8902646172')"
   ]
  },
  {
   "cell_type": "code",
   "execution_count": null,
   "id": "14d35c8c",
   "metadata": {},
   "outputs": [
    {
     "name": "stdout",
     "output_type": "stream",
     "text": [
      " * Serving Flask app \"__main__\" (lazy loading)\n",
      " * Environment: production\n",
      "   WARNING: This is a development server. Do not use it in a production deployment.\n",
      "   Use a production WSGI server instead.\n",
      " * Debug mode: off\n"
     ]
    },
    {
     "name": "stderr",
     "output_type": "stream",
     "text": [
      " * Running on http://127.0.0.1:8080/ (Press CTRL+C to quit)\n"
     ]
    }
   ],
   "source": [
    "from flask import Flask, request\n",
    "import requests\n",
    "\n",
    "app = Flask(__name__)\n",
    "\n",
    "ACCESS_TOKEN = \"\"\n",
    "VERIFY_TOKEN = \"asanify\"\n",
    "\n",
    "def reply(user_id, msg):\n",
    "    data = {\n",
    "        \"recipient\": {\"id\": user_id},\n",
    "        \"message\": {\"text\": msg}\n",
    "    }\n",
    "    resp = requests.post(\"https://graph.facebook.com/v2.6/me/messages?access_token=\" + ACCESS_TOKEN, json=data)\n",
    "    print(resp.content)\n",
    "\n",
    "\n",
    "@app.route('/', methods=['GET'])\n",
    "def handle_verification():\n",
    "    if request.args['hub.verify_token'] == VERIFY_TOKEN:\n",
    "        return request.args['hub.challenge']\n",
    "    else:\n",
    "        return \"Invalid verification token\"\n",
    "\n",
    "\n",
    "@app.route('/', methods=['POST'])\n",
    "def handle_incoming_messages():\n",
    "    data = request.json\n",
    "    sender = data['entry'][0]['messaging'][0]['sender']['id']\n",
    "    message = data['entry'][0]['messaging'][0]['message']['text']\n",
    "    reply(sender, message)\n",
    "\n",
    "    return \"ok\"\n",
    "\n",
    "\n",
    "if __name__ == '__main__':\n",
    "    app.run(port=8080)"
   ]
  },
  {
   "cell_type": "code",
   "execution_count": null,
   "id": "81bc8081",
   "metadata": {},
   "outputs": [],
   "source": []
  }
 ],
 "metadata": {
  "kernelspec": {
   "display_name": "Python 3",
   "language": "python",
   "name": "python3"
  },
  "language_info": {
   "codemirror_mode": {
    "name": "ipython",
    "version": 3
   },
   "file_extension": ".py",
   "mimetype": "text/x-python",
   "name": "python",
   "nbconvert_exporter": "python",
   "pygments_lexer": "ipython3",
   "version": "3.8.8"
  }
 },
 "nbformat": 4,
 "nbformat_minor": 5
}
